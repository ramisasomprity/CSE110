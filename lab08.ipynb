{
  "nbformat": 4,
  "nbformat_minor": 0,
  "metadata": {
    "colab": {
      "provenance": []
    },
    "kernelspec": {
      "name": "python3",
      "display_name": "Python 3"
    },
    "language_info": {
      "name": "python"
    }
  },
  "cells": [
    {
      "cell_type": "code",
      "execution_count": null,
      "metadata": {
        "colab": {
          "base_uri": "https://localhost:8080/"
        },
        "id": "08g2Y6JNyRc8",
        "outputId": "8f6f3a89-4b2b-4584-9e19-a9f334c3cb4a"
      },
      "outputs": [
        {
          "output_type": "stream",
          "name": "stdout",
          "text": [
            "[1, 2, 2, 3, 5, 6, 10, 11, 12, 14, 15, 17, 18, 20, 29]\n"
          ]
        }
      ],
      "source": [
        "my_list = [10, 1, 20, 3, 6, 2, 5, 11, 15, 2, 12, 14, 17, 18, 29]\n",
        "# bubble sorting\n",
        "for i in range (len(my_list)-1):\n",
        "  for j in range (0, len(my_list)-i-1):\n",
        "    if my_list[j]> my_list[j+1]:\n",
        "      temp=my_list[j]\n",
        "      my_list[j]=my_list[j+1]\n",
        "      my_list[j+1]=temp\n",
        "print(my_list)\n"
      ]
    },
    {
      "cell_type": "code",
      "source": [
        "my_list=[10,1,20,3,6,2,5,11,15,2,12,14,17,18,29]\n",
        "#selection sort\n",
        "for i in range(len(my_list)):\n",
        "    minvalue=my_list[i]\n",
        "    minindex=i\n",
        "    for value in range(i+1,len(my_list)):\n",
        "        if my_list[value]<minvalue:\n",
        "            minvalue=my_list[value]\n",
        "            minindex=value\n",
        "    temp=my_list[minindex]\n",
        "    my_list[minindex]=my_list[i]\n",
        "    my_list[i]=temp\n",
        "print(my_list)\n",
        "\n"
      ],
      "metadata": {
        "colab": {
          "base_uri": "https://localhost:8080/"
        },
        "id": "DPmOyQF4GGLP",
        "outputId": "c621e525-fbd9-43db-a06e-fbb459503c5a"
      },
      "execution_count": null,
      "outputs": [
        {
          "output_type": "stream",
          "name": "stdout",
          "text": [
            "[1, 2, 2, 3, 5, 6, 10, 11, 12, 14, 15, 17, 18, 20, 29]\n"
          ]
        }
      ]
    },
    {
      "cell_type": "code",
      "source": [
        "my_list = [10, 1, 20, 3, 6, 2, 5, 11, 15, 2, 12, 14, 17, 18, 29]\n",
        "for i in range(0,len(my_list)-1):\n",
        "    max=my_list[i]\n",
        "    maxindex=i\n",
        "    for value in range(i,len(my_list)):\n",
        "        if my_list[value]>max:\n",
        "            max=my_list[value]\n",
        "            maxindex=value\n",
        "    temp=max\n",
        "    my_list[maxindex]= my_list[i]\n",
        "    my_list[i]=temp\n",
        "print(my_list)\n"
      ],
      "metadata": {
        "colab": {
          "base_uri": "https://localhost:8080/"
        },
        "id": "hnjV45I5GmN0",
        "outputId": "d729ad11-b0bd-45f2-957c-c6e0227da942"
      },
      "execution_count": null,
      "outputs": [
        {
          "output_type": "stream",
          "name": "stdout",
          "text": [
            "[29, 20, 18, 17, 15, 14, 12, 11, 10, 6, 5, 3, 2, 2, 1]\n"
          ]
        }
      ]
    },
    {
      "cell_type": "code",
      "source": [
        "sitting_list=[10,30,20,70,11,15,22,16,58,100,12,56,70,80]\n",
        "list1=[]\n",
        "list2=[]\n",
        "sortedlist=[]\n",
        "counter1=0\n",
        "counter2=0\n",
        "for e in range(len(sitting_list)):\n",
        "  if e%2==0:\n",
        "\n",
        "     list1.append(sitting_list[e])\n",
        "  else:\n",
        "\n",
        "    list2.append(sitting_list[e])\n",
        "sorted_list1=sorted(list1)\n",
        "sorted_list2=sorted(list2,reverse=True)\n",
        "\n",
        "for i in range(len(sitting_list)):\n",
        "    if i%2==0:\n",
        "        sortedlist.append(sorted_list1[counter1])\n",
        "        counter1+=1\n",
        "    else:\n",
        "        sortedlist.append(sorted_list2[counter2])\n",
        "        counter2+=1\n",
        "print(sortedlist)\n"
      ],
      "metadata": {
        "colab": {
          "base_uri": "https://localhost:8080/"
        },
        "id": "JLP8ygqDMBg3",
        "outputId": "6f66b4b1-09ba-4fc8-d4bd-c47cac7fa811"
      },
      "execution_count": null,
      "outputs": [
        {
          "output_type": "stream",
          "name": "stdout",
          "text": [
            "[10, 100, 11, 80, 12, 70, 20, 56, 22, 30, 58, 16, 70, 15]\n"
          ]
        }
      ]
    }
  ]
}