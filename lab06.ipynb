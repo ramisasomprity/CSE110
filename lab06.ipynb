{
  "nbformat": 4,
  "nbformat_minor": 0,
  "metadata": {
    "colab": {
      "provenance": []
    },
    "kernelspec": {
      "name": "python3",
      "display_name": "Python 3"
    },
    "language_info": {
      "name": "python"
    }
  },
  "cells": [
    {
      "cell_type": "code",
      "execution_count": null,
      "metadata": {
        "colab": {
          "base_uri": "https://localhost:8080/"
        },
        "id": "5gpVJ813vs-L",
        "outputId": "01cc67b6-b526-4a55-b6a4-95f296f11628"
      },
      "outputs": [
        {
          "output_type": "stream",
          "name": "stdout",
          "text": [
            "400\n"
          ]
        }
      ],
      "source": [
        "a_tuple = (\"The Institute\", (\"Best Mystery & Thriller\", \"The Silent Patient\", 68821), 75717,\n",
        "[1, 2, 3, 400, 5, 6, 7], (\"Best Fiction\", \"The Testaments\", 98291))\n",
        "print(a_tuple[3][3])"
      ]
    },
    {
      "cell_type": "code",
      "source": [
        "tup=(10, 20, 24, 25, 26, 35, 70)\n",
        "print(tup[2:len(tup)-2])"
      ],
      "metadata": {
        "colab": {
          "base_uri": "https://localhost:8080/"
        },
        "id": "Rs53IVTM60Jl",
        "outputId": "9696e198-8867-4975-b70b-11b4ff70634f"
      },
      "execution_count": null,
      "outputs": [
        {
          "output_type": "stream",
          "name": "stdout",
          "text": [
            "(24, 25, 26)\n"
          ]
        }
      ]
    },
    {
      "cell_type": "code",
      "source": [
        "tup=(10, 20, 24, 25, 26, 35, 70)\n",
        "lst=[]\n",
        "for i in range(2,len(tup)-2,1):\n",
        "  lst.append(tup[i])\n",
        "print(tuple(lst))\n"
      ],
      "metadata": {
        "colab": {
          "base_uri": "https://localhost:8080/"
        },
        "id": "FyprH5GVxGwO",
        "outputId": "54dad73e-37fb-440c-ce38-f8302a417474"
      },
      "execution_count": null,
      "outputs": [
        {
          "output_type": "stream",
          "name": "stdout",
          "text": [
            "(24, 25, 26)\n"
          ]
        }
      ]
    },
    {
      "cell_type": "code",
      "source": [
        "book_info = (\n",
        "(\"Best Mystery & Thriller\",\"The Silent Patient\",68,821),\n",
        "(\"Best Horror\",\"The Institute\",75,717),\n",
        "(\"Best History & Biography\",\"The five\",31,783 ),\n",
        "(\"Best Fiction\",\"The Testaments\",98,291)\n",
        ")\n",
        "print(len(book_info))\n",
        "for i in book_info:\n",
        "\n",
        "  print(i)"
      ],
      "metadata": {
        "colab": {
          "base_uri": "https://localhost:8080/"
        },
        "id": "KLceUdHWzV7N",
        "outputId": "4f5df403-547b-4087-9ed7-d593f7fcab9f"
      },
      "execution_count": null,
      "outputs": [
        {
          "output_type": "stream",
          "name": "stdout",
          "text": [
            "4\n",
            "('Best Mystery & Thriller', 'The Silent Patient', 68, 821)\n",
            "('Best Horror', 'The Institute', 75, 717)\n",
            "('Best History & Biography', 'The five', 31, 783)\n",
            "('Best Fiction', 'The Testaments', 98, 291)\n"
          ]
        }
      ]
    },
    {
      "cell_type": "code",
      "source": [
        "book_info = (\n",
        "(\"Best Mystery & Thriller\",\"The Silent Patient\",68821),\n",
        "(\"Best Horror\",\"The Institute\",75717),\n",
        "(\"Best History & Biography\",\"The five\",31783 ),\n",
        "(\"Best Fiction\",\"The Testaments\",98291)\n",
        ")\n",
        "for i in book_info:\n",
        "  a,b,c=i\n",
        "  # print(b,\"wpon the\",a, \"catagory with\",c)\n",
        "  print(f\"{b} won the '{a}' catagory with {c} votes.\")\n"
      ],
      "metadata": {
        "colab": {
          "base_uri": "https://localhost:8080/"
        },
        "id": "ZoS_qtSq0W-k",
        "outputId": "764e94eb-677d-4d3d-e296-03a28f6635a0"
      },
      "execution_count": null,
      "outputs": [
        {
          "output_type": "stream",
          "name": "stdout",
          "text": [
            "The Silent Patient wpon the Best Mystery & Thriller catagory with 68821\n",
            "The Silent Patient won the 'Best Mystery & Thriller' catagory with 68821 votes.\n",
            "The Institute wpon the Best Horror catagory with 75717\n",
            "The Institute won the 'Best Horror' catagory with 75717 votes.\n",
            "The five wpon the Best History & Biography catagory with 31783\n",
            "The five won the 'Best History & Biography' catagory with 31783 votes.\n",
            "The Testaments wpon the Best Fiction catagory with 98291\n",
            "The Testaments won the 'Best Fiction' catagory with 98291 votes.\n"
          ]
        }
      ]
    },
    {
      "cell_type": "code",
      "source": [
        "mytup= (10, 8, 5, 2, 10, 15, 10, 8, 5, 8, 8, 2)\n",
        "tup=int(input())\n",
        "count=0\n",
        "for i in mytup:\n",
        "  if i==tup:\n",
        "    count+=1\n",
        "print(f\"{tup} appers {count} times\")\n"
      ],
      "metadata": {
        "colab": {
          "base_uri": "https://localhost:8080/"
        },
        "id": "BRlXNjSn2Dk0",
        "outputId": "063df4ad-79d8-44e9-88a5-8ef481467d7b"
      },
      "execution_count": null,
      "outputs": [
        {
          "output_type": "stream",
          "name": "stdout",
          "text": [
            "10\n",
            "10 appers 3 times\n"
          ]
        }
      ]
    },
    {
      "cell_type": "code",
      "source": [
        "Giventuple= ('a', 'b', 'c', 'd', 'e', 'f', 'g', 'h')\n",
        "lst=[]\n",
        "lst1=[]\n",
        "for i in  Giventuple:\n",
        "  lst.append(i)\n",
        "for a in range(len(lst)-1,-1,-1):\n",
        "   lst1.append(lst[a])\n",
        "print(tuple(lst1))\n",
        "\n",
        "\n",
        "\n",
        "\n"
      ],
      "metadata": {
        "colab": {
          "base_uri": "https://localhost:8080/"
        },
        "id": "thl6JT0S6Y6V",
        "outputId": "242d204e-8560-4055-b6cc-1a637b00cfd2"
      },
      "execution_count": null,
      "outputs": [
        {
          "output_type": "stream",
          "name": "stdout",
          "text": [
            "('h', 'g', 'f', 'e', 'd', 'c', 'b', 'a')\n"
          ]
        }
      ]
    },
    {
      "cell_type": "code",
      "source": [
        "d1={'Harry':15, 'Draco':8, 'Nevil':19}\n",
        "d2={'Ginie':18, 'Luna': 14}\n",
        "d3={}\n",
        "for i in d1:\n",
        "   d3.update(d1)\n",
        "   d3.update(d2)\n",
        "print(d3)\n"
      ],
      "metadata": {
        "colab": {
          "base_uri": "https://localhost:8080/"
        },
        "id": "QlD-QWML-mAk",
        "outputId": "c5e8c901-83b8-4ac3-a840-abab238e279e"
      },
      "execution_count": null,
      "outputs": [
        {
          "output_type": "stream",
          "name": "stdout",
          "text": [
            "{'Harry': 15, 'Draco': 8, 'Nevil': 19, 'Ginie': 18, 'Luna': 14}\n"
          ]
        }
      ]
    },
    {
      "cell_type": "code",
      "source": [
        "inp=input()\n",
        "#first=inp[1:-1]\n",
        "#second=first.split(\",\")\n",
        "third=\"\"\n",
        "#print(second)\n",
        "for i in inp:\n",
        "  if i!=\" \" and i!=\"'\":\n",
        "    third+=i\n",
        "print(third)\n",
        "#first=inp[1:-1]\n",
        "first=third[1:-1]\n",
        "print(first)\n",
        "second=first.split(\",\")\n",
        "empty={}\n",
        "for i in second:\n",
        "  value=i.split(\":\")\n",
        "  empty[value[0]]=int(value[1])\n",
        "sum=0\n",
        "count=0\n",
        "for values in empty:\n",
        "  sum+=empty[values]\n",
        "  count+=1\n",
        "print(sum/count)\n"
      ],
      "metadata": {
        "colab": {
          "base_uri": "https://localhost:8080/"
        },
        "id": "MmsdpZxLCE_q",
        "outputId": "e87380d5-774e-47bf-ae28-fd2ea349f661"
      },
      "execution_count": null,
      "outputs": [
        {
          "output_type": "stream",
          "name": "stdout",
          "text": [
            "{'Jon': 100, 'Dan': 200, 'Rob':3 00}\n",
            "{Jon:100,Dan:200,Rob:300}\n",
            "Jon:100,Dan:200,Rob:300\n",
            "200.0\n"
          ]
        }
      ]
    },
    {
      "cell_type": "code",
      "source": [
        "given={'sci fi': 12, 'mystery': 15, 'horror': 8, 'mythology': 10, 'young_adult': 4, 'adventure':14}\n",
        "list=[]\n",
        "\n",
        "for values in given:\n",
        "  list.append(given[values])\n",
        "print(list)\n",
        "maximum=list[0]\n",
        "\n",
        "for i in list:\n",
        "  if i>maximum:\n",
        "    maximum=i\n",
        "print(maximum)\n",
        "\n",
        "\n",
        "for keys,values in given.items():\n",
        "  if values==maximum:\n",
        "    print(f\"The highest selling book genre is '{keys}' and the number of books sold are {maximum}.\")\n",
        "\n",
        "\n",
        "\n",
        "\n"
      ],
      "metadata": {
        "id": "p0fuqu4TCVqN"
      },
      "execution_count": null,
      "outputs": []
    }
  ]
}